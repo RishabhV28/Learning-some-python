{
 "cells": [
  {
   "cell_type": "code",
   "execution_count": 1,
   "id": "1d657c0e",
   "metadata": {},
   "outputs": [],
   "source": [
    "import shutil"
   ]
  },
  {
   "cell_type": "code",
   "execution_count": 5,
   "id": "f99206ed",
   "metadata": {},
   "outputs": [
    {
     "data": {
      "text/plain": [
       "'2.txt'"
      ]
     },
     "execution_count": 5,
     "metadata": {},
     "output_type": "execute_result"
    }
   ],
   "source": [
    "shutil.copy('1.txt','2.txt')"
   ]
  },
  {
   "cell_type": "code",
   "execution_count": 4,
   "id": "29098ce6",
   "metadata": {},
   "outputs": [
    {
     "name": "stdout",
     "output_type": "stream",
     "text": [
      "hello \n"
     ]
    }
   ],
   "source": [
    "with open('1.txt','r') as f:\n",
    "    print(f.read())"
   ]
  },
  {
   "cell_type": "code",
   "execution_count": 7,
   "id": "f684d628",
   "metadata": {},
   "outputs": [],
   "source": [
    "shutil.rmtree('texts')"
   ]
  },
  {
   "cell_type": "code",
   "execution_count": null,
   "id": "29995c2a",
   "metadata": {},
   "outputs": [],
   "source": []
  }
 ],
 "metadata": {
  "kernelspec": {
   "display_name": "Python 3",
   "language": "python",
   "name": "python3"
  },
  "language_info": {
   "codemirror_mode": {
    "name": "ipython",
    "version": 3
   },
   "file_extension": ".py",
   "mimetype": "text/x-python",
   "name": "python",
   "nbconvert_exporter": "python",
   "pygments_lexer": "ipython3",
   "version": "3.13.1"
  }
 },
 "nbformat": 4,
 "nbformat_minor": 5
}
