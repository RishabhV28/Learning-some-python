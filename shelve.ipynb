{
 "cells": [
  {
   "cell_type": "code",
   "execution_count": 1,
   "id": "04b873f5",
   "metadata": {},
   "outputs": [],
   "source": [
    "import shelve"
   ]
  },
  {
   "cell_type": "code",
   "execution_count": 2,
   "id": "077c8c04",
   "metadata": {},
   "outputs": [],
   "source": [
    "with shelve.open('file2')as shelf:\n",
    "    shelf['key1']={'name':'Rishabh','age':20}\n",
    "    shelf['key2']=[1,2,3,4]"
   ]
  },
  {
   "cell_type": "code",
   "execution_count": 5,
   "id": "b483597e",
   "metadata": {},
   "outputs": [
    {
     "name": "stdout",
     "output_type": "stream",
     "text": [
      "{'name': 'Rishabh', 'age': 20}\n"
     ]
    }
   ],
   "source": [
    "with shelve.open('file2')as shelf:\n",
    "    print(shelf['key1'])"
   ]
  },
  {
   "cell_type": "code",
   "execution_count": 6,
   "id": "423fc208",
   "metadata": {},
   "outputs": [],
   "source": [
    "shelf.close()"
   ]
  }
 ],
 "metadata": {
  "kernelspec": {
   "display_name": "Python 3",
   "language": "python",
   "name": "python3"
  },
  "language_info": {
   "codemirror_mode": {
    "name": "ipython",
    "version": 3
   },
   "file_extension": ".py",
   "mimetype": "text/x-python",
   "name": "python",
   "nbconvert_exporter": "python",
   "pygments_lexer": "ipython3",
   "version": "3.13.1"
  }
 },
 "nbformat": 4,
 "nbformat_minor": 5
}
