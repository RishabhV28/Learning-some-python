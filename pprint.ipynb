{
 "cells": [
  {
   "cell_type": "code",
   "execution_count": 1,
   "id": "a34a7b9f",
   "metadata": {},
   "outputs": [],
   "source": [
    "import pprint"
   ]
  },
  {
   "cell_type": "code",
   "execution_count": 2,
   "id": "11ca79a7",
   "metadata": {},
   "outputs": [],
   "source": [
    "data={\n",
    "    'username':'alice',\n",
    "    'score':95,\n",
    "    'achievements':['level1','level2','level3'],\n",
    "    'settings':{'theme':'dark','volume':80}\n",
    "}"
   ]
  },
  {
   "cell_type": "code",
   "execution_count": 3,
   "id": "4a7ee0e5",
   "metadata": {},
   "outputs": [
    {
     "name": "stdout",
     "output_type": "stream",
     "text": [
      "{'achievements': ['level1', 'level2', 'level3'],\n",
      " 'score': 95,\n",
      " 'settings': {'theme': 'dark', 'volume': 80},\n",
      " 'username': 'alice'}\n"
     ]
    }
   ],
   "source": [
    "formatted=pprint.pformat(data)\n",
    "print(formatted)"
   ]
  }
 ],
 "metadata": {
  "kernelspec": {
   "display_name": "Python 3",
   "language": "python",
   "name": "python3"
  },
  "language_info": {
   "codemirror_mode": {
    "name": "ipython",
    "version": 3
   },
   "file_extension": ".py",
   "mimetype": "text/x-python",
   "name": "python",
   "nbconvert_exporter": "python",
   "pygments_lexer": "ipython3",
   "version": "3.13.1"
  }
 },
 "nbformat": 4,
 "nbformat_minor": 5
}
