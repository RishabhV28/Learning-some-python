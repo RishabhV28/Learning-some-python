#[expression for item in iterable]

#Square number in a list
'''
squares=[x**2 for x in range(5)]
print(squares)'''

#filtr only even numbers

evens=[x for x in range(10) if x%2==0]
print(evens)