{
 "cells": [
  {
   "cell_type": "code",
   "execution_count": null,
   "id": "d1ff2d7b-9225-4d19-9132-89383e528dae",
   "metadata": {},
   "outputs": [],
   "source": [
    "'''Lambda functions in Python are small, anonymous (unnamed) functions defined using the lambda keyword. They're used for short,\n",
    " simple operations—especially useful when you need a function for a short time and don’t want toformally define it using def'''"
   ]
  },
  {
   "cell_type": "code",
   "execution_count": 3,
   "id": "3261c427",
   "metadata": {},
   "outputs": [
    {
     "name": "stdout",
     "output_type": "stream",
     "text": [
      "17\n"
     ]
    }
   ],
   "source": [
    "add_ten=lambda x:x+10\n",
    "print(add_ten(7))"
   ]
  },
  {
   "cell_type": "code",
   "execution_count": 4,
   "id": "78e2ab99",
   "metadata": {},
   "outputs": [
    {
     "name": "stdout",
     "output_type": "stream",
     "text": [
      "[1, 4, 9, 16]\n"
     ]
    }
   ],
   "source": [
    "nums=[1,2,3,4]\n",
    "squared=list(map(lambda x: x**2,nums))\n",
    "print(squared)"
   ]
  }
 ],
 "metadata": {
  "kernelspec": {
   "display_name": "Python 3",
   "language": "python",
   "name": "python3"
  },
  "language_info": {
   "codemirror_mode": {
    "name": "ipython",
    "version": 3
   },
   "file_extension": ".py",
   "mimetype": "text/x-python",
   "name": "python",
   "nbconvert_exporter": "python",
   "pygments_lexer": "ipython3",
   "version": "3.13.1"
  }
 },
 "nbformat": 4,
 "nbformat_minor": 5
}
